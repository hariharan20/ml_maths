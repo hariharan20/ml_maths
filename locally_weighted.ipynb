{
  "nbformat": 4,
  "nbformat_minor": 0,
  "metadata": {
    "colab": {
      "name": "locally_weighted.ipynb",
      "provenance": [],
      "collapsed_sections": [],
      "authorship_tag": "ABX9TyN3bIjR7S+sH4KkH5cjwscy"
    },
    "kernelspec": {
      "name": "python3",
      "display_name": "Python 3"
    }
  },
  "cells": [
    {
      "cell_type": "code",
      "metadata": {
        "id": "3Yi8IwfXEJSa"
      },
      "source": [
        "import pandas as pd \r\n",
        "import numpy as np \r\n"
      ],
      "execution_count": 49,
      "outputs": []
    },
    {
      "cell_type": "code",
      "metadata": {
        "id": "TNcgwXeGESl-"
      },
      "source": [
        "data = pd.read_csv('data.csv')"
      ],
      "execution_count": 50,
      "outputs": []
    },
    {
      "cell_type": "code",
      "metadata": {
        "colab": {
          "base_uri": "https://localhost:8080/",
          "height": 399
        },
        "id": "keipjUO2d3H-",
        "outputId": "438fa9f8-f1f1-4ecd-d0d7-209bc6a5b26a"
      },
      "source": [
        "data"
      ],
      "execution_count": 77,
      "outputs": [
        {
          "output_type": "execute_result",
          "data": {
            "text/html": [
              "<div>\n",
              "<style scoped>\n",
              "    .dataframe tbody tr th:only-of-type {\n",
              "        vertical-align: middle;\n",
              "    }\n",
              "\n",
              "    .dataframe tbody tr th {\n",
              "        vertical-align: top;\n",
              "    }\n",
              "\n",
              "    .dataframe thead th {\n",
              "        text-align: right;\n",
              "    }\n",
              "</style>\n",
              "<table border=\"1\" class=\"dataframe\">\n",
              "  <thead>\n",
              "    <tr style=\"text-align: right;\">\n",
              "      <th></th>\n",
              "      <th>Date</th>\n",
              "      <th>Cases</th>\n",
              "      <th>Day</th>\n",
              "      <th>x1</th>\n",
              "      <th>Prediction</th>\n",
              "    </tr>\n",
              "  </thead>\n",
              "  <tbody>\n",
              "    <tr>\n",
              "      <th>0</th>\n",
              "      <td>Feb 15</td>\n",
              "      <td>0</td>\n",
              "      <td>1</td>\n",
              "      <td>1</td>\n",
              "      <td>3.411252</td>\n",
              "    </tr>\n",
              "    <tr>\n",
              "      <th>1</th>\n",
              "      <td>Feb 16</td>\n",
              "      <td>0</td>\n",
              "      <td>2</td>\n",
              "      <td>1</td>\n",
              "      <td>6.810454</td>\n",
              "    </tr>\n",
              "    <tr>\n",
              "      <th>2</th>\n",
              "      <td>Feb 17</td>\n",
              "      <td>0</td>\n",
              "      <td>3</td>\n",
              "      <td>1</td>\n",
              "      <td>10.209655</td>\n",
              "    </tr>\n",
              "    <tr>\n",
              "      <th>3</th>\n",
              "      <td>Feb 18</td>\n",
              "      <td>0</td>\n",
              "      <td>4</td>\n",
              "      <td>1</td>\n",
              "      <td>13.608857</td>\n",
              "    </tr>\n",
              "    <tr>\n",
              "      <th>4</th>\n",
              "      <td>Feb 19</td>\n",
              "      <td>0</td>\n",
              "      <td>5</td>\n",
              "      <td>1</td>\n",
              "      <td>17.008058</td>\n",
              "    </tr>\n",
              "    <tr>\n",
              "      <th>...</th>\n",
              "      <td>...</td>\n",
              "      <td>...</td>\n",
              "      <td>...</td>\n",
              "      <td>...</td>\n",
              "      <td>...</td>\n",
              "    </tr>\n",
              "    <tr>\n",
              "      <th>307</th>\n",
              "      <td>Dec 18</td>\n",
              "      <td>342</td>\n",
              "      <td>308</td>\n",
              "      <td>1</td>\n",
              "      <td>1046.966117</td>\n",
              "    </tr>\n",
              "    <tr>\n",
              "      <th>308</th>\n",
              "      <td>Dec 19</td>\n",
              "      <td>342</td>\n",
              "      <td>309</td>\n",
              "      <td>1</td>\n",
              "      <td>1050.365318</td>\n",
              "    </tr>\n",
              "    <tr>\n",
              "      <th>309</th>\n",
              "      <td>Dec 20</td>\n",
              "      <td>330</td>\n",
              "      <td>310</td>\n",
              "      <td>1</td>\n",
              "      <td>1053.764520</td>\n",
              "    </tr>\n",
              "    <tr>\n",
              "      <th>310</th>\n",
              "      <td>Dec 21</td>\n",
              "      <td>302</td>\n",
              "      <td>311</td>\n",
              "      <td>1</td>\n",
              "      <td>1057.163721</td>\n",
              "    </tr>\n",
              "    <tr>\n",
              "      <th>311</th>\n",
              "      <td>Dec 22</td>\n",
              "      <td>331</td>\n",
              "      <td>312</td>\n",
              "      <td>1</td>\n",
              "      <td>1060.562923</td>\n",
              "    </tr>\n",
              "  </tbody>\n",
              "</table>\n",
              "<p>312 rows × 5 columns</p>\n",
              "</div>"
            ],
            "text/plain": [
              "       Date  Cases  Day  x1   Prediction\n",
              "0    Feb 15      0    1   1     3.411252\n",
              "1    Feb 16      0    2   1     6.810454\n",
              "2    Feb 17      0    3   1    10.209655\n",
              "3    Feb 18      0    4   1    13.608857\n",
              "4    Feb 19      0    5   1    17.008058\n",
              "..      ...    ...  ...  ..          ...\n",
              "307  Dec 18    342  308   1  1046.966117\n",
              "308  Dec 19    342  309   1  1050.365318\n",
              "309  Dec 20    330  310   1  1053.764520\n",
              "310  Dec 21    302  311   1  1057.163721\n",
              "311  Dec 22    331  312   1  1060.562923\n",
              "\n",
              "[312 rows x 5 columns]"
            ]
          },
          "metadata": {
            "tags": []
          },
          "execution_count": 77
        }
      ]
    },
    {
      "cell_type": "code",
      "metadata": {
        "id": "AsfoYWTfEnWV"
      },
      "source": [
        "alpha = 0.00005\r\n",
        "lamb = 10000\r\n",
        "m = 312\r\n",
        "import numpy as np\r\n",
        "x2 = data[['Day' , 'x1']].to_numpy() \r\n",
        "x = data['Day'].to_numpy()\r\n",
        "x1 = data['x1'].to_numpy()\r\n",
        "y = data['Cases'].to_numpy()\r\n",
        "w0 = np.array([0])\r\n",
        "w1 = np.array([0])"
      ],
      "execution_count": 51,
      "outputs": []
    },
    {
      "cell_type": "code",
      "metadata": {
        "id": "JEobFanIHrZT"
      },
      "source": [
        "tau = 100\r\n",
        "X = np.average(x2)\r\n",
        "xx = -(((x - X)*(x - X))/(tau*tau))\r\n",
        "qw = np.exp(xx)"
      ],
      "execution_count": 52,
      "outputs": []
    },
    {
      "cell_type": "code",
      "metadata": {
        "colab": {
          "base_uri": "https://localhost:8080/"
        },
        "id": "ElgScxWnKRAy",
        "outputId": "7792eecc-1418-47e1-85e8-2a512bd2ba55"
      },
      "source": [
        "qw"
      ],
      "execution_count": 53,
      "outputs": [
        {
          "output_type": "execute_result",
          "data": {
            "text/plain": [
              "array([0.54634412, 0.55485068, 0.563377  , 0.57191995, 0.58047633,\n",
              "       0.58904291, 0.59761637, 0.60619337, 0.6147705 , 0.62334431,\n",
              "       0.6319113 , 0.64046792, 0.64901059, 0.65753568, 0.66603953,\n",
              "       0.67451845, 0.6829687 , 0.69138652, 0.69976812, 0.7081097 ,\n",
              "       0.71640742, 0.72465743, 0.73285585, 0.74099882, 0.74908243,\n",
              "       0.75710279, 0.765056  , 0.77293815, 0.78074534, 0.78847368,\n",
              "       0.79611928, 0.80367827, 0.81114678, 0.81852098, 0.82579704,\n",
              "       0.83297117, 0.8400396 , 0.84699859, 0.85384445, 0.8605735 ,\n",
              "       0.86718213, 0.87366677, 0.88002387, 0.88624996, 0.89234161,\n",
              "       0.89829546, 0.90410819, 0.90977656, 0.91529739, 0.92066757,\n",
              "       0.92588407, 0.93094391, 0.93584422, 0.94058218, 0.94515509,\n",
              "       0.94956029, 0.95379525, 0.95785751, 0.9617447 , 0.96545455,\n",
              "       0.9689849 , 0.97233367, 0.9754989 , 0.97847871, 0.98127135,\n",
              "       0.98387517, 0.98628862, 0.98851027, 0.99053879, 0.99237298,\n",
              "       0.99401175, 0.99545411, 0.99669921, 0.99774629, 0.99859474,\n",
              "       0.99924404, 0.9996938 , 0.99994375, 0.99999375, 0.99984376,\n",
              "       0.99949388, 0.99894431, 0.99819538, 0.99724754, 0.99610137,\n",
              "       0.99475754, 0.99321686, 0.99148025, 0.98954875, 0.9874235 ,\n",
              "       0.98510578, 0.98259696, 0.97989853, 0.97701209, 0.97393935,\n",
              "       0.97068211, 0.9672423 , 0.96362193, 0.95982313, 0.95584812,\n",
              "       0.95169921, 0.94737881, 0.94288944, 0.93823367, 0.93341418,\n",
              "       0.92843375, 0.92329522, 0.9180015 , 0.91255561, 0.90696062,\n",
              "       0.90121966, 0.89533597, 0.8893128 , 0.8831535 , 0.87686148,\n",
              "       0.87044017, 0.8638931 , 0.8572238 , 0.85043589, 0.843533  ,\n",
              "       0.83651883, 0.82939708, 0.82217151, 0.81484591, 0.80742408,\n",
              "       0.79990985, 0.79230707, 0.78461961, 0.77685136, 0.7690062 ,\n",
              "       0.76108803, 0.75310076, 0.74504829, 0.73693451, 0.72876333,\n",
              "       0.72053863, 0.71226428, 0.70394416, 0.69558209, 0.6871819 ,\n",
              "       0.67874739, 0.67028234, 0.66179049, 0.65327556, 0.64474122,\n",
              "       0.63619112, 0.62762888, 0.61905804, 0.61048213, 0.60190464,\n",
              "       0.59332899, 0.58475855, 0.57619666, 0.56764659, 0.55911156,\n",
              "       0.55059473, 0.54209921, 0.53362803, 0.52518418, 0.51677058,\n",
              "       0.50839008, 0.50004547, 0.49173946, 0.48347472, 0.47525382,\n",
              "       0.46707929, 0.45895356, 0.45087901, 0.44285793, 0.43489257,\n",
              "       0.42698506, 0.4191375 , 0.41135189, 0.40363017, 0.39597419,\n",
              "       0.38838574, 0.38086654, 0.37341822, 0.36604235, 0.35874041,\n",
              "       0.35151382, 0.34436393, 0.337292  , 0.33029924, 0.32338677,\n",
              "       0.31655564, 0.30980685, 0.3031413 , 0.29655984, 0.29006326,\n",
              "       0.28365225, 0.27732748, 0.2710895 , 0.26493885, 0.25887596,\n",
              "       0.25290123, 0.24701499, 0.2412175 , 0.23550898, 0.22988956,\n",
              "       0.22435935, 0.21891839, 0.21356666, 0.2083041 , 0.20313058,\n",
              "       0.19804594, 0.19304996, 0.18814238, 0.18332289, 0.17859113,\n",
              "       0.17394672, 0.1693892 , 0.16491811, 0.16053292, 0.15623309,\n",
              "       0.15201801, 0.14788708, 0.14383963, 0.13987498, 0.1359924 ,\n",
              "       0.13219116, 0.12847046, 0.12482953, 0.12126752, 0.1177836 ,\n",
              "       0.11437689, 0.1110465 , 0.10779152, 0.10461103, 0.10150408,\n",
              "       0.09846971, 0.09550695, 0.09261481, 0.08979228, 0.08703837,\n",
              "       0.08435204, 0.08173228, 0.07917804, 0.07668829, 0.07426197,\n",
              "       0.07189804, 0.06959544, 0.06735311, 0.06516999, 0.06304502,\n",
              "       0.06097714, 0.05896529, 0.05700842, 0.05510547, 0.05325539,\n",
              "       0.05145713, 0.04970965, 0.04801191, 0.04636287, 0.04476153,\n",
              "       0.04320685, 0.04169783, 0.04023346, 0.03881276, 0.03743474,\n",
              "       0.03609842, 0.03480284, 0.03354705, 0.03233011, 0.03115108,\n",
              "       0.03000905, 0.02890311, 0.02783235, 0.0267959 , 0.02579289,\n",
              "       0.02482246, 0.02388377, 0.02297597, 0.02209826, 0.02124983,\n",
              "       0.02042989, 0.01963766, 0.01887237, 0.01813328, 0.01741965,\n",
              "       0.01673076, 0.0160659 , 0.01542437, 0.0148055 , 0.01420862,\n",
              "       0.01363308, 0.01307823, 0.01254346, 0.01202814, 0.01153169,\n",
              "       0.01105352, 0.01059306, 0.01014975, 0.00972305, 0.00931242,\n",
              "       0.00891735, 0.00853734, 0.00817188, 0.0078205 , 0.00748274,\n",
              "       0.00715813, 0.00684624, 0.00654662, 0.00625887, 0.00598256,\n",
              "       0.00571731, 0.00546273, 0.00521844, 0.00498408, 0.00475929,\n",
              "       0.00454373, 0.00433707])"
            ]
          },
          "metadata": {
            "tags": []
          },
          "execution_count": 53
        }
      ]
    },
    {
      "cell_type": "code",
      "metadata": {
        "colab": {
          "base_uri": "https://localhost:8080/"
        },
        "id": "Z1ZpXkrGFR0A",
        "outputId": "96e39e8b-9341-47d3-8a01-4a756d828ecc"
      },
      "source": [
        "n = 10\r\n",
        "for i in range(0, n):\r\n",
        "  print('interation number',i)\r\n",
        "    \r\n",
        "  yp = (((w0 * x1) + (w1 * x) ) - y)*x1*qw\r\n",
        "  yk = (((w0 * x1) + (w1 * x) ) - y)*x*qw\r\n",
        "  w0 = w0  - ((alpha/m)*(np.sum(yp)))\r\n",
        "  w1 = w1  - ((alpha/m)*(np.sum(yk)))\r\n",
        "  print('w0' , w0 )\r\n",
        "  print('w1' , w1)"
      ],
      "execution_count": 54,
      "outputs": [
        {
          "output_type": "stream",
          "text": [
            "interation number 0\n",
            "w0 [0.00684798]\n",
            "w1 [1.07530805]\n",
            "interation number 1\n",
            "w0 [0.01115102]\n",
            "w1 [1.81895992]\n",
            "interation number 2\n",
            "w0 [0.01369408]\n",
            "w1 [2.33324904]\n",
            "interation number 3\n",
            "w0 [0.01501998]\n",
            "w1 [2.68891821]\n",
            "interation number 4\n",
            "w0 [0.01550415]\n",
            "w1 [2.93489093]\n",
            "interation number 5\n",
            "w0 [0.0154062]\n",
            "w1 [3.10500109]\n",
            "interation number 6\n",
            "w0 [0.01490568]\n",
            "w1 [3.22264715]\n",
            "interation number 7\n",
            "w0 [0.01412676]\n",
            "w1 [3.30401071]\n",
            "interation number 8\n",
            "w0 [0.0131553]\n",
            "w1 [3.36028245]\n",
            "interation number 9\n",
            "w0 [0.0120507]\n",
            "w1 [3.39920151]\n"
          ],
          "name": "stdout"
        }
      ]
    },
    {
      "cell_type": "code",
      "metadata": {
        "id": "J6KiIAMCHsY-"
      },
      "source": [
        "def loc_ml(x):\r\n",
        "  x1 = 1\r\n",
        "  yp  = (w0*x1) + (w1*x)\r\n",
        "  return yp"
      ],
      "execution_count": 72,
      "outputs": []
    },
    {
      "cell_type": "code",
      "metadata": {
        "colab": {
          "base_uri": "https://localhost:8080/"
        },
        "id": "dvW-ZJ-eHzfg",
        "outputId": "7c74b85f-094a-424c-ca62-e4781e258843"
      },
      "source": [
        "loc_ml(400)"
      ],
      "execution_count": 74,
      "outputs": [
        {
          "output_type": "execute_result",
          "data": {
            "text/plain": [
              "array([1359.69265577])"
            ]
          },
          "metadata": {
            "tags": []
          },
          "execution_count": 74
        }
      ]
    },
    {
      "cell_type": "code",
      "metadata": {
        "id": "Ce3ZeqrYcekf"
      },
      "source": [
        "data['Prediction'] = loc_ml(x)"
      ],
      "execution_count": 75,
      "outputs": []
    },
    {
      "cell_type": "code",
      "metadata": {
        "colab": {
          "base_uri": "https://localhost:8080/",
          "height": 297
        },
        "id": "v578xUxxcmMh",
        "outputId": "f23536b9-3fd2-4816-e8a3-703ec70e8e77"
      },
      "source": [
        "data.plot(x = 'Day' , y = 'Prediction')"
      ],
      "execution_count": 76,
      "outputs": [
        {
          "output_type": "execute_result",
          "data": {
            "text/plain": [
              "<matplotlib.axes._subplots.AxesSubplot at 0x7f9d675d0160>"
            ]
          },
          "metadata": {
            "tags": []
          },
          "execution_count": 76
        },
        {
          "output_type": "display_data",
          "data": {
            "image/png": "[encoded data removed]",
            "text/plain": [
              "<Figure size 432x288 with 1 Axes>"
            ]
          },
          "metadata": {
            "tags": [],
            "needs_background": "light"
          }
        }
      ]
    },
    {
      "cell_type": "code",
      "metadata": {
        "colab": {
          "base_uri": "https://localhost:8080/",
          "height": 297
        },
        "id": "bLLt3QD0cxUu",
        "outputId": "9c44c8ac-fa2e-4219-ce27-a3e6fe3d8de5"
      },
      "source": [
        "data.plot(x = 'Day' , y = 'Cases')"
      ],
      "execution_count": 78,
      "outputs": [
        {
          "output_type": "execute_result",
          "data": {
            "text/plain": [
              "<matplotlib.axes._subplots.AxesSubplot at 0x7f9d674e8278>"
            ]
          },
          "metadata": {
            "tags": []
          },
          "execution_count": 78
        },
        {
          "output_type": "display_data",
          "data": {
            "image/png": "[encoded data removed]",
            "text/plain": [
              "<Figure size 432x288 with 1 Axes>"
            ]
          },
          "metadata": {
            "tags": [],
            "needs_background": "light"
          }
        }
      ]
    },
    {
      "cell_type": "code",
      "metadata": {
        "id": "kPf61FNQe1nf"
      },
      "source": [
        ""
      ],
      "execution_count": null,
      "outputs": []
    }
  ]
}