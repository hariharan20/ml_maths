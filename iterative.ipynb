{
  "nbformat": 4,
  "nbformat_minor": 0,
  "metadata": {
    "colab": {
      "name": "iterative.ipynb",
      "provenance": [],
      "collapsed_sections": [],
      "authorship_tag": "ABX9TyMUyvz1x8JYKiGjI4hpH9o6"
    },
    "kernelspec": {
      "name": "python3",
      "display_name": "Python 3"
    }
  },
  "cells": [
    {
      "cell_type": "code",
      "metadata": {
        "id": "2J7VG4Xny_Cg"
      },
      "source": [
        "import pandas as pd \r\n",
        "data = pd.read_csv('data.csv')"
      ],
      "execution_count": null,
      "outputs": []
    },
    {
      "cell_type": "code",
      "metadata": {
        "colab": {
          "base_uri": "https://localhost:8080/",
          "height": 399
        },
        "id": "R7L4C1Zg0lO5",
        "outputId": "c90d2b8a-8c70-494a-da58-bee94dd8ac2e"
      },
      "source": [
        "data"
      ],
      "execution_count": null,
      "outputs": [
        {
          "output_type": "execute_result",
          "data": {
            "text/html": [
              "<div>\n",
              "<style scoped>\n",
              "    .dataframe tbody tr th:only-of-type {\n",
              "        vertical-align: middle;\n",
              "    }\n",
              "\n",
              "    .dataframe tbody tr th {\n",
              "        vertical-align: top;\n",
              "    }\n",
              "\n",
              "    .dataframe thead th {\n",
              "        text-align: right;\n",
              "    }\n",
              "</style>\n",
              "<table border=\"1\" class=\"dataframe\">\n",
              "  <thead>\n",
              "    <tr style=\"text-align: right;\">\n",
              "      <th></th>\n",
              "      <th>Date</th>\n",
              "      <th>Cases</th>\n",
              "      <th>Day</th>\n",
              "      <th>x1</th>\n",
              "    </tr>\n",
              "  </thead>\n",
              "  <tbody>\n",
              "    <tr>\n",
              "      <th>0</th>\n",
              "      <td>Feb 15</td>\n",
              "      <td>0</td>\n",
              "      <td>1</td>\n",
              "      <td>1</td>\n",
              "    </tr>\n",
              "    <tr>\n",
              "      <th>1</th>\n",
              "      <td>Feb 16</td>\n",
              "      <td>0</td>\n",
              "      <td>2</td>\n",
              "      <td>1</td>\n",
              "    </tr>\n",
              "    <tr>\n",
              "      <th>2</th>\n",
              "      <td>Feb 17</td>\n",
              "      <td>0</td>\n",
              "      <td>3</td>\n",
              "      <td>1</td>\n",
              "    </tr>\n",
              "    <tr>\n",
              "      <th>3</th>\n",
              "      <td>Feb 18</td>\n",
              "      <td>0</td>\n",
              "      <td>4</td>\n",
              "      <td>1</td>\n",
              "    </tr>\n",
              "    <tr>\n",
              "      <th>4</th>\n",
              "      <td>Feb 19</td>\n",
              "      <td>0</td>\n",
              "      <td>5</td>\n",
              "      <td>1</td>\n",
              "    </tr>\n",
              "    <tr>\n",
              "      <th>...</th>\n",
              "      <td>...</td>\n",
              "      <td>...</td>\n",
              "      <td>...</td>\n",
              "      <td>...</td>\n",
              "    </tr>\n",
              "    <tr>\n",
              "      <th>307</th>\n",
              "      <td>Dec 18</td>\n",
              "      <td>342</td>\n",
              "      <td>308</td>\n",
              "      <td>1</td>\n",
              "    </tr>\n",
              "    <tr>\n",
              "      <th>308</th>\n",
              "      <td>Dec 19</td>\n",
              "      <td>342</td>\n",
              "      <td>309</td>\n",
              "      <td>1</td>\n",
              "    </tr>\n",
              "    <tr>\n",
              "      <th>309</th>\n",
              "      <td>Dec 20</td>\n",
              "      <td>330</td>\n",
              "      <td>310</td>\n",
              "      <td>1</td>\n",
              "    </tr>\n",
              "    <tr>\n",
              "      <th>310</th>\n",
              "      <td>Dec 21</td>\n",
              "      <td>302</td>\n",
              "      <td>311</td>\n",
              "      <td>1</td>\n",
              "    </tr>\n",
              "    <tr>\n",
              "      <th>311</th>\n",
              "      <td>Dec 22</td>\n",
              "      <td>331</td>\n",
              "      <td>312</td>\n",
              "      <td>1</td>\n",
              "    </tr>\n",
              "  </tbody>\n",
              "</table>\n",
              "<p>312 rows × 4 columns</p>\n",
              "</div>"
            ],
            "text/plain": [
              "       Date  Cases  Day  x1\n",
              "0    Feb 15      0    1   1\n",
              "1    Feb 16      0    2   1\n",
              "2    Feb 17      0    3   1\n",
              "3    Feb 18      0    4   1\n",
              "4    Feb 19      0    5   1\n",
              "..      ...    ...  ...  ..\n",
              "307  Dec 18    342  308   1\n",
              "308  Dec 19    342  309   1\n",
              "309  Dec 20    330  310   1\n",
              "310  Dec 21    302  311   1\n",
              "311  Dec 22    331  312   1\n",
              "\n",
              "[312 rows x 4 columns]"
            ]
          },
          "metadata": {
            "tags": []
          },
          "execution_count": 2
        }
      ]
    },
    {
      "cell_type": "code",
      "metadata": {
        "id": "6K-tAyaN0mCr"
      },
      "source": [
        "alpha = 0.00005\r\n",
        "lamb = 10000\r\n",
        "m = 312\r\n",
        "import numpy as np \r\n",
        "x = data['Day'].to_numpy()\r\n",
        "x1 = data['x1'].to_numpy()\r\n",
        "y = data['Cases'].to_numpy()\r\n",
        "w0 = np.array([0])\r\n",
        "w1 = np.array([0])"
      ],
      "execution_count": null,
      "outputs": []
    },
    {
      "cell_type": "code",
      "metadata": {
        "colab": {
          "base_uri": "https://localhost:8080/"
        },
        "id": "R9bcxoaQ1lV8",
        "outputId": "f5327c9d-6337-4391-f2c4-4e788daece0d"
      },
      "source": [
        "n = 10\r\n",
        "for i in range(0, n):\r\n",
        "  print('interation number',i)\r\n",
        "    \r\n",
        "  yp = (((w0 * x1) + (w1 * x) ) - y)*x1\r\n",
        "  yk = (((w0 * x1) + (w1 * x) ) - y)*x\r\n",
        "  w0 = w0  - ((alpha/m)*(np.sum(yp)))\r\n",
        "  w1 = ((1 - (alpha*lamb/m))*w1)  - ((alpha/m)*(np.sum(yk)))\r\n",
        "  print('w0' , w0 )\r\n",
        "  print('w1' , w1)\r\n",
        "  "
      ],
      "execution_count": null,
      "outputs": [
        {
          "output_type": "stream",
          "text": [
            "interation number 0\n",
            "w0 [0.02347372]\n",
            "w1 [4.80736811]\n",
            "interation number 1\n",
            "w0 [0.00932861]\n",
            "w1 [1.76983687]\n",
            "interation number 2\n",
            "w0 [0.01895288]\n",
            "w1 [3.68909289]\n",
            "interation number 3\n",
            "w0 [0.0135585]\n",
            "w1 [2.47641071]\n",
            "interation number 4\n",
            "w0 [0.01765363]\n",
            "w1 [3.24263874]\n",
            "interation number 5\n",
            "w0 [0.01575282]\n",
            "w1 [2.75849548]\n",
            "interation number 6\n",
            "w0 [0.01764052]\n",
            "w1 [3.06439734]\n",
            "interation number 7\n",
            "w0 [0.01713445]\n",
            "w1 [2.87111044]\n",
            "interation number 8\n",
            "w0 [0.01814087]\n",
            "w1 [2.99323517]\n",
            "interation number 9\n",
            "w0 [0.01819161]\n",
            "w1 [2.91606756]\n"
          ],
          "name": "stdout"
        }
      ]
    },
    {
      "cell_type": "code",
      "metadata": {
        "id": "08Mzi4j06Q9X"
      },
      "source": [
        "def ml(x) :\r\n",
        "  x1 = 1\r\n",
        "  yp = (w0 * x1) +(w1 * x)\r\n",
        "  print(yp)"
      ],
      "execution_count": null,
      "outputs": []
    },
    {
      "cell_type": "code",
      "metadata": {
        "colab": {
          "base_uri": "https://localhost:8080/"
        },
        "id": "YQr6RJSX_-0x",
        "outputId": "620b5644-44bc-4827-c779-c899c6b8ea75"
      },
      "source": [
        "ml(400)"
      ],
      "execution_count": null,
      "outputs": [
        {
          "output_type": "stream",
          "text": [
            "[1166.44521487]\n"
          ],
          "name": "stdout"
        }
      ]
    },
    {
      "cell_type": "code",
      "metadata": {
        "colab": {
          "base_uri": "https://localhost:8080/"
        },
        "id": "12sEAb-0AAiN",
        "outputId": "d98576d5-f6f8-460f-af0e-101206cd35ac"
      },
      "source": [
        "n = 30\r\n",
        "for i in range(0, n ):\r\n",
        "  ml(i+312)"
      ],
      "execution_count": null,
      "outputs": [
        {
          "output_type": "stream",
          "text": [
            "[909.83126975]\n",
            "[912.74733731]\n",
            "[915.66340487]\n",
            "[918.57947243]\n",
            "[921.49553999]\n",
            "[924.41160754]\n",
            "[927.3276751]\n",
            "[930.24374266]\n",
            "[933.15981022]\n",
            "[936.07587778]\n",
            "[938.99194533]\n",
            "[941.90801289]\n",
            "[944.82408045]\n",
            "[947.74014801]\n",
            "[950.65621557]\n",
            "[953.57228313]\n",
            "[956.48835068]\n",
            "[959.40441824]\n",
            "[962.3204858]\n",
            "[965.23655336]\n",
            "[968.15262092]\n",
            "[971.06868847]\n",
            "[973.98475603]\n",
            "[976.90082359]\n",
            "[979.81689115]\n",
            "[982.73295871]\n",
            "[985.64902626]\n",
            "[988.56509382]\n",
            "[991.48116138]\n",
            "[994.39722894]\n"
          ],
          "name": "stdout"
        }
      ]
    },
    {
      "cell_type": "code",
      "metadata": {
        "id": "_NPpnRkWAjoR"
      },
      "source": [
        ""
      ],
      "execution_count": null,
      "outputs": []
    }
  ]
}